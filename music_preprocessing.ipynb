{
 "cells": [
  {
   "cell_type": "code",
   "execution_count": 23,
   "metadata": {},
   "outputs": [],
   "source": [
    "import os\n",
    "import math\n",
    "import json\n",
    "import librosa\n",
    "from librosa import feature\n",
    "from os.path import join as pjoin"
   ]
  },
  {
   "cell_type": "code",
   "execution_count": 25,
   "metadata": {},
   "outputs": [],
   "source": [
    "current_dir = os.getcwd()\n",
    "data_dir = pjoin(current_dir, 'Data')\n",
    "song_path = pjoin(data_dir, 'genres_original')\n",
    "\n",
    "DATASET_PATH = song_path\n",
    "JSON_PATH = \"data.json\"\n",
    "SAMPLE_RATE = 22050\n",
    "DURATION = 30  # measured in seconds\n",
    "SAMPLES_PER_TRACK = SAMPLE_RATE * DURATION\n",
    "\n",
    "def save_mfcc(dataset_path, json_path, n_mfcc=13, n_fft=2048, hop_length=512, num_segements=5):\n",
    "\n",
    "    # Dictionary to store data\n",
    "    data = {\n",
    "        \"mapping\": [],  # genre labels in numbers\n",
    "        \"mfcc\": [],     # mfcc for each segment\n",
    "        \"labels\": []    # targets we expect\n",
    "    }\n",
    "\n",
    "    num_samples_per_segment = int(SAMPLES_PER_TRACK / num_segements)\n",
    "    expected_num_mfcc_vectors_per_segment = math.ceil(num_samples_per_segment / hop_length)\n",
    "\n",
    "    # Loop through all genres\n",
    "    for i, (dirpath, dirnames, filenames) in enumerate(os.walk(dataset_path)):\n",
    "\n",
    "        # Ensure we are not at the root level\n",
    "        if dirpath != dataset_path:\n",
    "\n",
    "            # Save the semantic label\n",
    "            dirpath_components = dirpath.split(os.sep)\n",
    "            semantic_label = dirpath_components[-1]\n",
    "            data[\"mapping\"].append(semantic_label)\n",
    "            print(\"\\nProcessing {}\".format(semantic_label))\n",
    "\n",
    "            # Process files for a specific genre\n",
    "            for f in filenames:\n",
    "\n",
    "                # Load audio file\n",
    "                file_path = os.path.join(dirpath, f)\n",
    "                signal, sr = librosa.load(file_path, sr=SAMPLE_RATE)\n",
    "\n",
    "                # Process segments extracting mfcc and storing data\n",
    "                for s in range(num_segements):\n",
    "                    start_sample = num_samples_per_segment * s\n",
    "                    finish_sample = start_sample + num_samples_per_segment\n",
    "                    mfcc_features = librosa.feature.spectral.mfcc(signal[start_sample:finish_sample],\n",
    "                                                                  sr=sr, n_fft=n_fft, n_mfcc=n_mfcc,\n",
    "                                                                  hop_length=hop_length)\n",
    "                    mfcc_features = mfcc_features.T\n",
    "                    # Store mfcc for segment if it has expected length\n",
    "                    if len(mfcc_features) == expected_num_mfcc_vectors_per_segment:\n",
    "                        data[\"mfcc\"].append(mfcc_features.tolist())\n",
    "                        data[\"labels\"].append(i - 1)\n",
    "                        print(\"{}, segment:{}\".format(file_path, s))\n",
    "    with open(json_path, \"w\") as fp:\n",
    "        json.dump(data, fp, indent=4)\n"
   ]
  },
  {
   "cell_type": "code",
   "execution_count": 26,
   "metadata": {},
   "outputs": [
    {
     "name": "stdout",
     "output_type": "stream",
     "text": [
      "\n",
      "Processing pop\n"
     ]
    },
    {
     "ename": "TypeError",
     "evalue": "mfcc() takes 0 positional arguments but 1 positional argument (and 2 keyword-only arguments) were given",
     "output_type": "error",
     "traceback": [
      "\u001b[0;31m---------------------------------------------------------------------------\u001b[0m",
      "\u001b[0;31mTypeError\u001b[0m                                 Traceback (most recent call last)",
      "Cell \u001b[0;32mIn[26], line 2\u001b[0m\n\u001b[1;32m      1\u001b[0m \u001b[38;5;28;01mif\u001b[39;00m \u001b[38;5;18m__name__\u001b[39m \u001b[38;5;241m==\u001b[39m \u001b[38;5;124m\"\u001b[39m\u001b[38;5;124m__main__\u001b[39m\u001b[38;5;124m\"\u001b[39m:\n\u001b[0;32m----> 2\u001b[0m     \u001b[43msave_mfcc\u001b[49m\u001b[43m(\u001b[49m\u001b[43mDATASET_PATH\u001b[49m\u001b[43m,\u001b[49m\u001b[43m \u001b[49m\u001b[43mJSON_PATH\u001b[49m\u001b[43m,\u001b[49m\u001b[43m \u001b[49m\u001b[43mnum_segements\u001b[49m\u001b[38;5;241;43m=\u001b[39;49m\u001b[38;5;241;43m10\u001b[39;49m\u001b[43m)\u001b[49m\n",
      "Cell \u001b[0;32mIn[25], line 46\u001b[0m, in \u001b[0;36msave_mfcc\u001b[0;34m(dataset_path, json_path, n_mfcc, n_fft, hop_length, num_segements)\u001b[0m\n\u001b[1;32m     44\u001b[0m start_sample \u001b[38;5;241m=\u001b[39m num_samples_per_segment \u001b[38;5;241m*\u001b[39m s\n\u001b[1;32m     45\u001b[0m finish_sample \u001b[38;5;241m=\u001b[39m start_sample \u001b[38;5;241m+\u001b[39m num_samples_per_segment\n\u001b[0;32m---> 46\u001b[0m mfcc_features \u001b[38;5;241m=\u001b[39m \u001b[43mlibrosa\u001b[49m\u001b[38;5;241;43m.\u001b[39;49m\u001b[43mfeature\u001b[49m\u001b[38;5;241;43m.\u001b[39;49m\u001b[43mspectral\u001b[49m\u001b[38;5;241;43m.\u001b[39;49m\u001b[43mmfcc\u001b[49m\u001b[43m(\u001b[49m\u001b[43msignal\u001b[49m\u001b[43m[\u001b[49m\u001b[43mstart_sample\u001b[49m\u001b[43m:\u001b[49m\u001b[43mfinish_sample\u001b[49m\u001b[43m]\u001b[49m\u001b[43m,\u001b[49m\n\u001b[1;32m     47\u001b[0m \u001b[43m                                              \u001b[49m\u001b[43msr\u001b[49m\u001b[38;5;241;43m=\u001b[39;49m\u001b[43msr\u001b[49m\u001b[43m,\u001b[49m\u001b[43m \u001b[49m\u001b[43mn_fft\u001b[49m\u001b[38;5;241;43m=\u001b[39;49m\u001b[43mn_fft\u001b[49m\u001b[43m,\u001b[49m\u001b[43m \u001b[49m\u001b[43mn_mfcc\u001b[49m\u001b[38;5;241;43m=\u001b[39;49m\u001b[43mn_mfcc\u001b[49m\u001b[43m,\u001b[49m\n\u001b[1;32m     48\u001b[0m \u001b[43m                                              \u001b[49m\u001b[43mhop_length\u001b[49m\u001b[38;5;241;43m=\u001b[39;49m\u001b[43mhop_length\u001b[49m\u001b[43m)\u001b[49m\n\u001b[1;32m     49\u001b[0m mfcc_features \u001b[38;5;241m=\u001b[39m mfcc_features\u001b[38;5;241m.\u001b[39mT\n\u001b[1;32m     50\u001b[0m \u001b[38;5;66;03m# Store mfcc for segment if it has expected length\u001b[39;00m\n",
      "\u001b[0;31mTypeError\u001b[0m: mfcc() takes 0 positional arguments but 1 positional argument (and 2 keyword-only arguments) were given"
     ]
    }
   ],
   "source": [
    "if __name__ == \"__main__\":\n",
    "    save_mfcc(DATASET_PATH, JSON_PATH, num_segements=10)"
   ]
  },
  {
   "cell_type": "code",
   "execution_count": null,
   "metadata": {},
   "outputs": [],
   "source": []
  }
 ],
 "metadata": {
  "kernelspec": {
   "display_name": "Python 3",
   "language": "python",
   "name": "python3"
  },
  "language_info": {
   "codemirror_mode": {
    "name": "ipython",
    "version": 3
   },
   "file_extension": ".py",
   "mimetype": "text/x-python",
   "name": "python",
   "nbconvert_exporter": "python",
   "pygments_lexer": "ipython3",
   "version": "3.9.6"
  }
 },
 "nbformat": 4,
 "nbformat_minor": 2
}
