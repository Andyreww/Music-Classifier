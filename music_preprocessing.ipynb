{
 "cells": [
  {
   "cell_type": "code",
   "execution_count": 1,
   "metadata": {},
   "outputs": [],
   "source": [
    "import os\n",
    "import math\n",
    "import json\n",
    "import librosa\n",
    "import logging\n",
    "from librosa import feature\n",
    "from os.path import join as pjoin"
   ]
  },
  {
   "cell_type": "code",
   "execution_count": 3,
   "metadata": {},
   "outputs": [],
   "source": [
    "# Configure logging\n",
    "logging.basicConfig(filename='processing.log', level=logging.INFO)\n",
    "\n",
    "current_dir = os.getcwd()\n",
    "data_dir = pjoin(current_dir, 'Data')\n",
    "song_path = pjoin(data_dir, 'genres_original')\n",
    "\n",
    "DATASET_PATH = song_path\n",
    "JSON_PATH = \"data.json\"\n",
    "SAMPLE_RATE = 22050\n",
    "DURATION = 30  # measured in seconds\n",
    "SAMPLES_PER_TRACK = SAMPLE_RATE * DURATION\n",
    "\n",
    "def save_mfcc(dataset_path, json_path, n_mfcc=13, n_fft=2048, hop_length=512, num_segements=5):\n",
    "\n",
    "    # Dictionary to store data\n",
    "    data = {\n",
    "        \"mapping\": [],  # genre labels in numbers\n",
    "        \"mfcc\": [],     # mfcc for each segment\n",
    "        \"labels\": []    # targets we expect\n",
    "    }\n",
    "\n",
    "    num_samples_per_segment = int(SAMPLES_PER_TRACK / num_segements)\n",
    "    expected_num_mfcc_vectors_per_segment = math.ceil(num_samples_per_segment / hop_length)\n",
    "\n",
    "    # Loop through all genres\n",
    "    for i, (dirpath, dirnames, filenames) in enumerate(os.walk(dataset_path)):\n",
    "\n",
    "        # Ensure we are not at the root level\n",
    "        if dirpath != dataset_path:\n",
    "\n",
    "            # Save the semantic label\n",
    "            dirpath_components = dirpath.split(os.sep)\n",
    "            semantic_label = dirpath_components[-1]\n",
    "            data[\"mapping\"].append(semantic_label)\n",
    "            logging.info(f\"\\nProcessing {semantic_label}\")\n",
    "\n",
    "            # Process files for a specific genre\n",
    "            for f in filenames:\n",
    "\n",
    "                # Load audio file\n",
    "                file_path = os.path.join(dirpath, f)\n",
    "                try:\n",
    "                    signal, sr = librosa.load(file_path, sr=SAMPLE_RATE)\n",
    "                except Exception as e:\n",
    "                    logging.error(f\"Could not process {file_path}: {e}\")\n",
    "                    continue\n",
    "\n",
    "                # Process segments extracting mfcc and storing data\n",
    "                for s in range(num_segements):\n",
    "                    start_sample = num_samples_per_segment * s\n",
    "                    finish_sample = start_sample + num_samples_per_segment\n",
    "                    mfcc_features = librosa.feature.mfcc(\n",
    "                        y=signal[start_sample:finish_sample],\n",
    "                        sr=sr,\n",
    "                        n_fft=n_fft,\n",
    "                        n_mfcc=n_mfcc,\n",
    "                        hop_length=hop_length\n",
    "                    )\n",
    "                    mfcc_features = mfcc_features.T\n",
    "                    # Store mfcc for segment if it has expected length\n",
    "                    if len(mfcc_features) == expected_num_mfcc_vectors_per_segment:\n",
    "                        data[\"mfcc\"].append(mfcc_features.tolist())\n",
    "                        data[\"labels\"].append(i - 1)\n",
    "                        logging.info(f\"{file_path}, segment:{s}\")\n",
    "                    else:\n",
    "                        logging.warning(f\"Segment {s} of {file_path} has unexpected length and was skipped.\")\n",
    "\n",
    "    # Write data to JSON file\n",
    "    try:\n",
    "        with open(json_path, \"w\", encoding=\"utf-8\") as fp:\n",
    "            json.dump(data, fp, indent=4)\n",
    "        logging.info(\"Data successfully written to JSON file.\")\n",
    "    except Exception as e:\n",
    "        logging.error(f\"Failed to write data to JSON file: {e}\")"
   ]
  },
  {
   "cell_type": "code",
   "execution_count": 4,
   "metadata": {},
   "outputs": [
    {
     "name": "stderr",
     "output_type": "stream",
     "text": [
      "/var/folders/3p/jz7f3lw538jddb7p1jj5qsf00000gn/T/ipykernel_24378/2655755969.py:44: UserWarning: PySoundFile failed. Trying audioread instead.\n",
      "  signal, sr = librosa.load(file_path, sr=SAMPLE_RATE)\n",
      "/Users/andrewangulo/Library/Python/3.9/lib/python/site-packages/librosa/core/audio.py:184: FutureWarning: librosa.core.audio.__audioread_load\n",
      "\tDeprecated as of librosa version 0.10.0.\n",
      "\tIt will be removed in librosa version 1.0.\n",
      "  y, sr_native = __audioread_load(path, offset, duration, dtype)\n"
     ]
    }
   ],
   "source": [
    "if __name__ == \"__main__\":\n",
    "    save_mfcc(DATASET_PATH, JSON_PATH, num_segements=10)"
   ]
  }
 ],
 "metadata": {
  "kernelspec": {
   "display_name": "Python 3",
   "language": "python",
   "name": "python3"
  },
  "language_info": {
   "codemirror_mode": {
    "name": "ipython",
    "version": 3
   },
   "file_extension": ".py",
   "mimetype": "text/x-python",
   "name": "python",
   "nbconvert_exporter": "python",
   "pygments_lexer": "ipython3",
   "version": "3.9.6"
  }
 },
 "nbformat": 4,
 "nbformat_minor": 2
}
